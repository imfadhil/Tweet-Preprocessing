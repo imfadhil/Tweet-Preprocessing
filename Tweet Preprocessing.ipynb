{
  "nbformat": 4,
  "nbformat_minor": 0,
  "metadata": {
    "colab": {
      "name": "Tweet Normalization.ipynb",
      "provenance": []
    },
    "kernelspec": {
      "name": "python3",
      "display_name": "Python 3"
    },
    "language_info": {
      "name": "python"
    },
    "widgets": {
      "application/vnd.jupyter.widget-state+json": {
        "52ce99b1517742f9b06c31f6b56bf237": {
          "model_module": "@jupyter-widgets/controls",
          "model_name": "HBoxModel",
          "model_module_version": "1.5.0",
          "state": {
            "_view_name": "HBoxView",
            "_dom_classes": [],
            "_model_name": "HBoxModel",
            "_view_module": "@jupyter-widgets/controls",
            "_model_module_version": "1.5.0",
            "_view_count": null,
            "_view_module_version": "1.5.0",
            "box_style": "",
            "layout": "IPY_MODEL_2a7540fbf6774ec2b6daf2a75f135a72",
            "_model_module": "@jupyter-widgets/controls",
            "children": [
              "IPY_MODEL_b86b8f1cf57145738ee991cd6896149c",
              "IPY_MODEL_d64369d71efd42e4aa497fc839cfb75e"
            ]
          }
        },
        "2a7540fbf6774ec2b6daf2a75f135a72": {
          "model_module": "@jupyter-widgets/base",
          "model_name": "LayoutModel",
          "model_module_version": "1.2.0",
          "state": {
            "_view_name": "LayoutView",
            "grid_template_rows": null,
            "right": null,
            "justify_content": null,
            "_view_module": "@jupyter-widgets/base",
            "overflow": null,
            "_model_module_version": "1.2.0",
            "_view_count": null,
            "flex_flow": null,
            "width": null,
            "min_width": null,
            "border": null,
            "align_items": null,
            "bottom": null,
            "_model_module": "@jupyter-widgets/base",
            "top": null,
            "grid_column": null,
            "overflow_y": null,
            "overflow_x": null,
            "grid_auto_flow": null,
            "grid_area": null,
            "grid_template_columns": null,
            "flex": null,
            "_model_name": "LayoutModel",
            "justify_items": null,
            "grid_row": null,
            "max_height": null,
            "align_content": null,
            "visibility": null,
            "align_self": null,
            "height": null,
            "min_height": null,
            "padding": null,
            "grid_auto_rows": null,
            "grid_gap": null,
            "max_width": null,
            "order": null,
            "_view_module_version": "1.2.0",
            "grid_template_areas": null,
            "object_position": null,
            "object_fit": null,
            "grid_auto_columns": null,
            "margin": null,
            "display": null,
            "left": null
          }
        },
        "b86b8f1cf57145738ee991cd6896149c": {
          "model_module": "@jupyter-widgets/controls",
          "model_name": "FloatProgressModel",
          "model_module_version": "1.5.0",
          "state": {
            "_view_name": "ProgressView",
            "style": "IPY_MODEL_d5bb2ad3c93e4ec9898812af6ce882f8",
            "_dom_classes": [],
            "description": "Pandas Apply: 100%",
            "_model_name": "FloatProgressModel",
            "bar_style": "success",
            "max": 46,
            "_view_module": "@jupyter-widgets/controls",
            "_model_module_version": "1.5.0",
            "value": 46,
            "_view_count": null,
            "_view_module_version": "1.5.0",
            "orientation": "horizontal",
            "min": 0,
            "description_tooltip": null,
            "_model_module": "@jupyter-widgets/controls",
            "layout": "IPY_MODEL_d014687360f8438892e7f8f71eda3051"
          }
        },
        "d64369d71efd42e4aa497fc839cfb75e": {
          "model_module": "@jupyter-widgets/controls",
          "model_name": "HTMLModel",
          "model_module_version": "1.5.0",
          "state": {
            "_view_name": "HTMLView",
            "style": "IPY_MODEL_29fd3e0b2c794c3eaf48c1c1c4434dcf",
            "_dom_classes": [],
            "description": "",
            "_model_name": "HTMLModel",
            "placeholder": "​",
            "_view_module": "@jupyter-widgets/controls",
            "_model_module_version": "1.5.0",
            "value": " 46/46 [00:12&lt;00:00,  3.81it/s]",
            "_view_count": null,
            "_view_module_version": "1.5.0",
            "description_tooltip": null,
            "_model_module": "@jupyter-widgets/controls",
            "layout": "IPY_MODEL_032f0de5b01d429db3d75b83c0d8d46b"
          }
        },
        "d5bb2ad3c93e4ec9898812af6ce882f8": {
          "model_module": "@jupyter-widgets/controls",
          "model_name": "ProgressStyleModel",
          "model_module_version": "1.5.0",
          "state": {
            "_view_name": "StyleView",
            "_model_name": "ProgressStyleModel",
            "description_width": "initial",
            "_view_module": "@jupyter-widgets/base",
            "_model_module_version": "1.5.0",
            "_view_count": null,
            "_view_module_version": "1.2.0",
            "bar_color": null,
            "_model_module": "@jupyter-widgets/controls"
          }
        },
        "d014687360f8438892e7f8f71eda3051": {
          "model_module": "@jupyter-widgets/base",
          "model_name": "LayoutModel",
          "model_module_version": "1.2.0",
          "state": {
            "_view_name": "LayoutView",
            "grid_template_rows": null,
            "right": null,
            "justify_content": null,
            "_view_module": "@jupyter-widgets/base",
            "overflow": null,
            "_model_module_version": "1.2.0",
            "_view_count": null,
            "flex_flow": null,
            "width": null,
            "min_width": null,
            "border": null,
            "align_items": null,
            "bottom": null,
            "_model_module": "@jupyter-widgets/base",
            "top": null,
            "grid_column": null,
            "overflow_y": null,
            "overflow_x": null,
            "grid_auto_flow": null,
            "grid_area": null,
            "grid_template_columns": null,
            "flex": null,
            "_model_name": "LayoutModel",
            "justify_items": null,
            "grid_row": null,
            "max_height": null,
            "align_content": null,
            "visibility": null,
            "align_self": null,
            "height": null,
            "min_height": null,
            "padding": null,
            "grid_auto_rows": null,
            "grid_gap": null,
            "max_width": null,
            "order": null,
            "_view_module_version": "1.2.0",
            "grid_template_areas": null,
            "object_position": null,
            "object_fit": null,
            "grid_auto_columns": null,
            "margin": null,
            "display": null,
            "left": null
          }
        },
        "29fd3e0b2c794c3eaf48c1c1c4434dcf": {
          "model_module": "@jupyter-widgets/controls",
          "model_name": "DescriptionStyleModel",
          "model_module_version": "1.5.0",
          "state": {
            "_view_name": "StyleView",
            "_model_name": "DescriptionStyleModel",
            "description_width": "",
            "_view_module": "@jupyter-widgets/base",
            "_model_module_version": "1.5.0",
            "_view_count": null,
            "_view_module_version": "1.2.0",
            "_model_module": "@jupyter-widgets/controls"
          }
        },
        "032f0de5b01d429db3d75b83c0d8d46b": {
          "model_module": "@jupyter-widgets/base",
          "model_name": "LayoutModel",
          "model_module_version": "1.2.0",
          "state": {
            "_view_name": "LayoutView",
            "grid_template_rows": null,
            "right": null,
            "justify_content": null,
            "_view_module": "@jupyter-widgets/base",
            "overflow": null,
            "_model_module_version": "1.2.0",
            "_view_count": null,
            "flex_flow": null,
            "width": null,
            "min_width": null,
            "border": null,
            "align_items": null,
            "bottom": null,
            "_model_module": "@jupyter-widgets/base",
            "top": null,
            "grid_column": null,
            "overflow_y": null,
            "overflow_x": null,
            "grid_auto_flow": null,
            "grid_area": null,
            "grid_template_columns": null,
            "flex": null,
            "_model_name": "LayoutModel",
            "justify_items": null,
            "grid_row": null,
            "max_height": null,
            "align_content": null,
            "visibility": null,
            "align_self": null,
            "height": null,
            "min_height": null,
            "padding": null,
            "grid_auto_rows": null,
            "grid_gap": null,
            "max_width": null,
            "order": null,
            "_view_module_version": "1.2.0",
            "grid_template_areas": null,
            "object_position": null,
            "object_fit": null,
            "grid_auto_columns": null,
            "margin": null,
            "display": null,
            "left": null
          }
        }
      }
    }
  },
  "cells": [
    {
      "cell_type": "markdown",
      "metadata": {
        "id": "3ex7VOgI7LPb"
      },
      "source": [
        "\n",
        "\n",
        "# Install Library\n"
      ]
    },
    {
      "cell_type": "code",
      "metadata": {
        "colab": {
          "base_uri": "https://localhost:8080/",
          "height": 1000
        },
        "id": "8sZp4DQA6tfW",
        "outputId": "56f4b665-7e89-493e-ed7d-7e3bd9416c9f"
      },
      "source": [
        "!pip install nltk\n",
        "!pip install Sastrawi\n",
        "!pip install regex\n",
        "!pip install tweet-preprocessor\n",
        "!pip install swifter"
      ],
      "execution_count": null,
      "outputs": [
        {
          "output_type": "stream",
          "text": [
            "Requirement already satisfied: nltk in /usr/local/lib/python3.7/dist-packages (3.2.5)\n",
            "Requirement already satisfied: six in /usr/local/lib/python3.7/dist-packages (from nltk) (1.15.0)\n",
            "Requirement already satisfied: Sastrawi in /usr/local/lib/python3.7/dist-packages (1.0.1)\n",
            "Requirement already satisfied: regex in /usr/local/lib/python3.7/dist-packages (2019.12.20)\n",
            "Requirement already satisfied: tweet-preprocessor in /usr/local/lib/python3.7/dist-packages (0.6.0)\n",
            "Collecting swifter\n",
            "\u001b[?25l  Downloading https://files.pythonhosted.org/packages/f4/3b/04bf42b94a22725241b47e0256458cde11f86f97572dd824e011f1ea8b20/swifter-1.0.7.tar.gz (633kB)\n",
            "\u001b[K     |████████████████████████████████| 634kB 6.9MB/s \n",
            "\u001b[?25hRequirement already satisfied: pandas>=1.0.0 in /usr/local/lib/python3.7/dist-packages (from swifter) (1.1.5)\n",
            "Collecting psutil>=5.6.6\n",
            "\u001b[?25l  Downloading https://files.pythonhosted.org/packages/84/da/f7efdcf012b51506938553dbe302aecc22f3f43abd5cffa8320e8e0588d5/psutil-5.8.0-cp37-cp37m-manylinux2010_x86_64.whl (296kB)\n",
            "\u001b[K     |████████████████████████████████| 296kB 12.9MB/s \n",
            "\u001b[?25hRequirement already satisfied: dask[dataframe]>=2.10.0 in /usr/local/lib/python3.7/dist-packages (from swifter) (2.12.0)\n",
            "Requirement already satisfied: tqdm>=4.33.0 in /usr/local/lib/python3.7/dist-packages (from swifter) (4.41.1)\n",
            "Requirement already satisfied: ipywidgets>=7.0.0cloudpickle>=0.2.2 in /usr/local/lib/python3.7/dist-packages (from swifter) (7.6.3)\n",
            "Requirement already satisfied: parso>0.4.0 in /usr/local/lib/python3.7/dist-packages (from swifter) (0.8.2)\n",
            "Requirement already satisfied: bleach>=3.1.1 in /usr/local/lib/python3.7/dist-packages (from swifter) (3.3.0)\n",
            "Collecting modin[ray]>=0.8.1.1\n",
            "\u001b[?25l  Downloading https://files.pythonhosted.org/packages/20/87/118bc738470e51052162f744f3f7e0d9285f6e73be34b49f62c61ae1893d/modin-0.9.1-py3-none-manylinux1_x86_64.whl (579kB)\n",
            "\u001b[K     |████████████████████████████████| 583kB 14.6MB/s \n",
            "\u001b[?25hRequirement already satisfied: pytz>=2017.2 in /usr/local/lib/python3.7/dist-packages (from pandas>=1.0.0->swifter) (2018.9)\n",
            "Requirement already satisfied: numpy>=1.15.4 in /usr/local/lib/python3.7/dist-packages (from pandas>=1.0.0->swifter) (1.19.5)\n",
            "Requirement already satisfied: python-dateutil>=2.7.3 in /usr/local/lib/python3.7/dist-packages (from pandas>=1.0.0->swifter) (2.8.1)\n",
            "Collecting fsspec>=0.6.0; extra == \"dataframe\"\n",
            "\u001b[?25l  Downloading https://files.pythonhosted.org/packages/bc/52/816d1a3a599176057bf29dfacb1f8fadb61d35fbd96cb1bab4aaa7df83c0/fsspec-2021.5.0-py3-none-any.whl (111kB)\n",
            "\u001b[K     |████████████████████████████████| 112kB 27.8MB/s \n",
            "\u001b[?25hRequirement already satisfied: toolz>=0.7.3; extra == \"dataframe\" in /usr/local/lib/python3.7/dist-packages (from dask[dataframe]>=2.10.0->swifter) (0.11.1)\n",
            "Collecting partd>=0.3.10; extra == \"dataframe\"\n",
            "  Downloading https://files.pythonhosted.org/packages/41/94/360258a68b55f47859d72b2d0b2b3cfe0ca4fbbcb81b78812bd00ae86b7c/partd-1.2.0-py3-none-any.whl\n",
            "Requirement already satisfied: ipython>=4.0.0; python_version >= \"3.3\" in /usr/local/lib/python3.7/dist-packages (from ipywidgets>=7.0.0cloudpickle>=0.2.2->swifter) (5.5.0)\n",
            "Requirement already satisfied: ipykernel>=4.5.1 in /usr/local/lib/python3.7/dist-packages (from ipywidgets>=7.0.0cloudpickle>=0.2.2->swifter) (4.10.1)\n",
            "Requirement already satisfied: jupyterlab-widgets>=1.0.0; python_version >= \"3.6\" in /usr/local/lib/python3.7/dist-packages (from ipywidgets>=7.0.0cloudpickle>=0.2.2->swifter) (1.0.0)\n",
            "Requirement already satisfied: nbformat>=4.2.0 in /usr/local/lib/python3.7/dist-packages (from ipywidgets>=7.0.0cloudpickle>=0.2.2->swifter) (5.1.3)\n",
            "Requirement already satisfied: traitlets>=4.3.1 in /usr/local/lib/python3.7/dist-packages (from ipywidgets>=7.0.0cloudpickle>=0.2.2->swifter) (5.0.5)\n",
            "Requirement already satisfied: widgetsnbextension~=3.5.0 in /usr/local/lib/python3.7/dist-packages (from ipywidgets>=7.0.0cloudpickle>=0.2.2->swifter) (3.5.1)\n",
            "Requirement already satisfied: webencodings in /usr/local/lib/python3.7/dist-packages (from bleach>=3.1.1->swifter) (0.5.1)\n",
            "Requirement already satisfied: packaging in /usr/local/lib/python3.7/dist-packages (from bleach>=3.1.1->swifter) (20.9)\n",
            "Requirement already satisfied: six>=1.9.0 in /usr/local/lib/python3.7/dist-packages (from bleach>=3.1.1->swifter) (1.15.0)\n",
            "Collecting ray<1.2.0,>=1.0.0; extra == \"ray\"\n",
            "\u001b[?25l  Downloading https://files.pythonhosted.org/packages/dd/bc/e1ae5b67cd8e0a4ca84f9a59b65b210daf4ed1d9ad69c035f1824aa1256f/ray-1.1.0-cp37-cp37m-manylinux2014_x86_64.whl (48.5MB)\n",
            "\u001b[K     |████████████████████████████████| 48.5MB 85kB/s \n",
            "\u001b[?25hCollecting pyarrow==1.0; extra == \"ray\"\n",
            "\u001b[?25l  Downloading https://files.pythonhosted.org/packages/45/f4/a86a09ae9944ed3c10e2a628dee3e4c37b81f42063ab4f554d6962bc048d/pyarrow-1.0.0-cp37-cp37m-manylinux2014_x86_64.whl (17.2MB)\n",
            "\u001b[K     |████████████████████████████████| 17.2MB 259kB/s \n",
            "\u001b[?25hCollecting locket\n",
            "  Downloading https://files.pythonhosted.org/packages/50/b8/e789e45b9b9c2db75e9d9e6ceb022c8d1d7e49b2c085ce8c05600f90a96b/locket-0.2.1-py2.py3-none-any.whl\n",
            "Requirement already satisfied: simplegeneric>0.8 in /usr/local/lib/python3.7/dist-packages (from ipython>=4.0.0; python_version >= \"3.3\"->ipywidgets>=7.0.0cloudpickle>=0.2.2->swifter) (0.8.1)\n",
            "Requirement already satisfied: setuptools>=18.5 in /usr/local/lib/python3.7/dist-packages (from ipython>=4.0.0; python_version >= \"3.3\"->ipywidgets>=7.0.0cloudpickle>=0.2.2->swifter) (56.1.0)\n",
            "Requirement already satisfied: prompt-toolkit<2.0.0,>=1.0.4 in /usr/local/lib/python3.7/dist-packages (from ipython>=4.0.0; python_version >= \"3.3\"->ipywidgets>=7.0.0cloudpickle>=0.2.2->swifter) (1.0.18)\n",
            "Requirement already satisfied: pickleshare in /usr/local/lib/python3.7/dist-packages (from ipython>=4.0.0; python_version >= \"3.3\"->ipywidgets>=7.0.0cloudpickle>=0.2.2->swifter) (0.7.5)\n",
            "Requirement already satisfied: decorator in /usr/local/lib/python3.7/dist-packages (from ipython>=4.0.0; python_version >= \"3.3\"->ipywidgets>=7.0.0cloudpickle>=0.2.2->swifter) (4.4.2)\n",
            "Requirement already satisfied: pexpect; sys_platform != \"win32\" in /usr/local/lib/python3.7/dist-packages (from ipython>=4.0.0; python_version >= \"3.3\"->ipywidgets>=7.0.0cloudpickle>=0.2.2->swifter) (4.8.0)\n",
            "Requirement already satisfied: pygments in /usr/local/lib/python3.7/dist-packages (from ipython>=4.0.0; python_version >= \"3.3\"->ipywidgets>=7.0.0cloudpickle>=0.2.2->swifter) (2.6.1)\n",
            "Requirement already satisfied: jupyter-client in /usr/local/lib/python3.7/dist-packages (from ipykernel>=4.5.1->ipywidgets>=7.0.0cloudpickle>=0.2.2->swifter) (5.3.5)\n",
            "Requirement already satisfied: tornado>=4.0 in /usr/local/lib/python3.7/dist-packages (from ipykernel>=4.5.1->ipywidgets>=7.0.0cloudpickle>=0.2.2->swifter) (5.1.1)\n",
            "Requirement already satisfied: ipython-genutils in /usr/local/lib/python3.7/dist-packages (from nbformat>=4.2.0->ipywidgets>=7.0.0cloudpickle>=0.2.2->swifter) (0.2.0)\n",
            "Requirement already satisfied: jsonschema!=2.5.0,>=2.4 in /usr/local/lib/python3.7/dist-packages (from nbformat>=4.2.0->ipywidgets>=7.0.0cloudpickle>=0.2.2->swifter) (2.6.0)\n",
            "Requirement already satisfied: jupyter-core in /usr/local/lib/python3.7/dist-packages (from nbformat>=4.2.0->ipywidgets>=7.0.0cloudpickle>=0.2.2->swifter) (4.7.1)\n",
            "Requirement already satisfied: notebook>=4.4.1 in /usr/local/lib/python3.7/dist-packages (from widgetsnbextension~=3.5.0->ipywidgets>=7.0.0cloudpickle>=0.2.2->swifter) (5.3.1)\n",
            "Requirement already satisfied: pyparsing>=2.0.2 in /usr/local/lib/python3.7/dist-packages (from packaging->bleach>=3.1.1->swifter) (2.4.7)\n",
            "Collecting gpustat\n",
            "\u001b[?25l  Downloading https://files.pythonhosted.org/packages/b4/69/d8c849715171aeabd61af7da080fdc60948b5a396d2422f1f4672e43d008/gpustat-0.6.0.tar.gz (78kB)\n",
            "\u001b[K     |████████████████████████████████| 81kB 10.4MB/s \n",
            "\u001b[?25hCollecting opencensus\n",
            "\u001b[?25l  Downloading https://files.pythonhosted.org/packages/18/59/12044123133d000f705383ad98579aeb0dd82d66b33a254a21b54bf0d6bb/opencensus-0.7.13-py2.py3-none-any.whl (127kB)\n",
            "\u001b[K     |████████████████████████████████| 133kB 47.4MB/s \n",
            "\u001b[?25hRequirement already satisfied: protobuf>=3.8.0 in /usr/local/lib/python3.7/dist-packages (from ray<1.2.0,>=1.0.0; extra == \"ray\"->modin[ray]>=0.8.1.1->swifter) (3.12.4)\n",
            "Requirement already satisfied: filelock in /usr/local/lib/python3.7/dist-packages (from ray<1.2.0,>=1.0.0; extra == \"ray\"->modin[ray]>=0.8.1.1->swifter) (3.0.12)\n",
            "Requirement already satisfied: click>=7.0 in /usr/local/lib/python3.7/dist-packages (from ray<1.2.0,>=1.0.0; extra == \"ray\"->modin[ray]>=0.8.1.1->swifter) (8.0.0)\n",
            "Requirement already satisfied: prometheus-client>=0.7.1 in /usr/local/lib/python3.7/dist-packages (from ray<1.2.0,>=1.0.0; extra == \"ray\"->modin[ray]>=0.8.1.1->swifter) (0.10.1)\n",
            "Collecting aioredis\n",
            "\u001b[?25l  Downloading https://files.pythonhosted.org/packages/b0/64/1b1612d0a104f21f80eb4c6e1b6075f2e6aba8e228f46f229cfd3fdac859/aioredis-1.3.1-py3-none-any.whl (65kB)\n",
            "\u001b[K     |████████████████████████████████| 71kB 10.2MB/s \n",
            "\u001b[?25hCollecting aiohttp-cors\n",
            "  Downloading https://files.pythonhosted.org/packages/13/e7/e436a0c0eb5127d8b491a9b83ecd2391c6ff7dcd5548dfaec2080a2340fd/aiohttp_cors-0.7.0-py3-none-any.whl\n",
            "Collecting colorful\n",
            "\u001b[?25l  Downloading https://files.pythonhosted.org/packages/b0/8e/e386e248266952d24d73ed734c2f5513f34d9557032618c8910e605dfaf6/colorful-0.5.4-py2.py3-none-any.whl (201kB)\n",
            "\u001b[K     |████████████████████████████████| 204kB 40.3MB/s \n",
            "\u001b[?25hRequirement already satisfied: requests in /usr/local/lib/python3.7/dist-packages (from ray<1.2.0,>=1.0.0; extra == \"ray\"->modin[ray]>=0.8.1.1->swifter) (2.23.0)\n",
            "Requirement already satisfied: grpcio>=1.28.1 in /usr/local/lib/python3.7/dist-packages (from ray<1.2.0,>=1.0.0; extra == \"ray\"->modin[ray]>=0.8.1.1->swifter) (1.32.0)\n",
            "Collecting py-spy>=0.2.0\n",
            "\u001b[?25l  Downloading https://files.pythonhosted.org/packages/9d/4d/1a9cbe9a0b543e6733cb38afe26451522a9ef8e4897b59e74cc76838f245/py_spy-0.3.7-py2.py3-none-manylinux1_x86_64.whl (3.1MB)\n",
            "\u001b[K     |████████████████████████████████| 3.1MB 33.1MB/s \n",
            "\u001b[?25hRequirement already satisfied: msgpack<2.0.0,>=1.0.0 in /usr/local/lib/python3.7/dist-packages (from ray<1.2.0,>=1.0.0; extra == \"ray\"->modin[ray]>=0.8.1.1->swifter) (1.0.2)\n",
            "Requirement already satisfied: pyyaml in /usr/local/lib/python3.7/dist-packages (from ray<1.2.0,>=1.0.0; extra == \"ray\"->modin[ray]>=0.8.1.1->swifter) (3.13)\n",
            "Collecting aiohttp\n",
            "\u001b[?25l  Downloading https://files.pythonhosted.org/packages/88/c0/5890b4c8b04a79b7360e8fe4490feb0bb3ab179743f199f0e6220cebd568/aiohttp-3.7.4.post0-cp37-cp37m-manylinux2014_x86_64.whl (1.3MB)\n",
            "\u001b[K     |████████████████████████████████| 1.3MB 34.4MB/s \n",
            "\u001b[?25hCollecting colorama\n",
            "  Downloading https://files.pythonhosted.org/packages/44/98/5b86278fbbf250d239ae0ecb724f8572af1c91f4a11edf4d36a206189440/colorama-0.4.4-py2.py3-none-any.whl\n",
            "Collecting redis>=3.5.0\n",
            "\u001b[?25l  Downloading https://files.pythonhosted.org/packages/a7/7c/24fb0511df653cf1a5d938d8f5d19802a88cef255706fdda242ff97e91b7/redis-3.5.3-py2.py3-none-any.whl (72kB)\n",
            "\u001b[K     |████████████████████████████████| 81kB 10.4MB/s \n",
            "\u001b[?25hRequirement already satisfied: wcwidth in /usr/local/lib/python3.7/dist-packages (from prompt-toolkit<2.0.0,>=1.0.4->ipython>=4.0.0; python_version >= \"3.3\"->ipywidgets>=7.0.0cloudpickle>=0.2.2->swifter) (0.2.5)\n",
            "Requirement already satisfied: ptyprocess>=0.5 in /usr/local/lib/python3.7/dist-packages (from pexpect; sys_platform != \"win32\"->ipython>=4.0.0; python_version >= \"3.3\"->ipywidgets>=7.0.0cloudpickle>=0.2.2->swifter) (0.7.0)\n",
            "Requirement already satisfied: pyzmq>=13 in /usr/local/lib/python3.7/dist-packages (from jupyter-client->ipykernel>=4.5.1->ipywidgets>=7.0.0cloudpickle>=0.2.2->swifter) (22.0.3)\n",
            "Requirement already satisfied: nbconvert in /usr/local/lib/python3.7/dist-packages (from notebook>=4.4.1->widgetsnbextension~=3.5.0->ipywidgets>=7.0.0cloudpickle>=0.2.2->swifter) (5.6.1)\n",
            "Requirement already satisfied: terminado>=0.8.1 in /usr/local/lib/python3.7/dist-packages (from notebook>=4.4.1->widgetsnbextension~=3.5.0->ipywidgets>=7.0.0cloudpickle>=0.2.2->swifter) (0.9.5)\n",
            "Requirement already satisfied: jinja2 in /usr/local/lib/python3.7/dist-packages (from notebook>=4.4.1->widgetsnbextension~=3.5.0->ipywidgets>=7.0.0cloudpickle>=0.2.2->swifter) (2.11.3)\n",
            "Requirement already satisfied: Send2Trash in /usr/local/lib/python3.7/dist-packages (from notebook>=4.4.1->widgetsnbextension~=3.5.0->ipywidgets>=7.0.0cloudpickle>=0.2.2->swifter) (1.5.0)\n",
            "Requirement already satisfied: nvidia-ml-py3>=7.352.0 in /usr/local/lib/python3.7/dist-packages (from gpustat->ray<1.2.0,>=1.0.0; extra == \"ray\"->modin[ray]>=0.8.1.1->swifter) (7.352.0)\n",
            "Collecting blessings>=1.6\n",
            "  Downloading https://files.pythonhosted.org/packages/03/74/489f85a78247609c6b4f13733cbf3ba0d864b11aa565617b645d6fdf2a4a/blessings-1.7-py3-none-any.whl\n",
            "Collecting opencensus-context==0.1.2\n",
            "  Downloading https://files.pythonhosted.org/packages/f1/33/990f1bd9e7ee770fc8d3c154fc24743a96f16a0e49e14e1b7540cc2fdd93/opencensus_context-0.1.2-py2.py3-none-any.whl\n",
            "Requirement already satisfied: google-api-core<2.0.0,>=1.0.0 in /usr/local/lib/python3.7/dist-packages (from opencensus->ray<1.2.0,>=1.0.0; extra == \"ray\"->modin[ray]>=0.8.1.1->swifter) (1.26.3)\n",
            "Collecting async-timeout\n",
            "  Downloading https://files.pythonhosted.org/packages/e1/1e/5a4441be21b0726c4464f3f23c8b19628372f606755a9d2e46c187e65ec4/async_timeout-3.0.1-py3-none-any.whl\n",
            "Collecting hiredis\n",
            "\u001b[?25l  Downloading https://files.pythonhosted.org/packages/ed/33/290cea35b09c80b4634773ad5572a8030a87b5d39736719f698f521d2a13/hiredis-2.0.0-cp37-cp37m-manylinux2010_x86_64.whl (85kB)\n",
            "\u001b[K     |████████████████████████████████| 92kB 11.3MB/s \n",
            "\u001b[?25hRequirement already satisfied: urllib3!=1.25.0,!=1.25.1,<1.26,>=1.21.1 in /usr/local/lib/python3.7/dist-packages (from requests->ray<1.2.0,>=1.0.0; extra == \"ray\"->modin[ray]>=0.8.1.1->swifter) (1.24.3)\n",
            "Requirement already satisfied: idna<3,>=2.5 in /usr/local/lib/python3.7/dist-packages (from requests->ray<1.2.0,>=1.0.0; extra == \"ray\"->modin[ray]>=0.8.1.1->swifter) (2.10)\n",
            "Requirement already satisfied: certifi>=2017.4.17 in /usr/local/lib/python3.7/dist-packages (from requests->ray<1.2.0,>=1.0.0; extra == \"ray\"->modin[ray]>=0.8.1.1->swifter) (2020.12.5)\n",
            "Requirement already satisfied: chardet<4,>=3.0.2 in /usr/local/lib/python3.7/dist-packages (from requests->ray<1.2.0,>=1.0.0; extra == \"ray\"->modin[ray]>=0.8.1.1->swifter) (3.0.4)\n",
            "Collecting multidict<7.0,>=4.5\n",
            "\u001b[?25l  Downloading https://files.pythonhosted.org/packages/7c/a6/4123b8165acbe773d1a8dc8e3f0d1edea16d29f7de018eda769abb56bd30/multidict-5.1.0-cp37-cp37m-manylinux2014_x86_64.whl (142kB)\n",
            "\u001b[K     |████████████████████████████████| 143kB 49.7MB/s \n",
            "\u001b[?25hRequirement already satisfied: typing-extensions>=3.6.5 in /usr/local/lib/python3.7/dist-packages (from aiohttp->ray<1.2.0,>=1.0.0; extra == \"ray\"->modin[ray]>=0.8.1.1->swifter) (3.7.4.3)\n",
            "Collecting yarl<2.0,>=1.0\n",
            "\u001b[?25l  Downloading https://files.pythonhosted.org/packages/f1/62/046834c5fc998c88ab2ef722f5d42122230a632212c8afa76418324f53ff/yarl-1.6.3-cp37-cp37m-manylinux2014_x86_64.whl (294kB)\n",
            "\u001b[K     |████████████████████████████████| 296kB 40.1MB/s \n",
            "\u001b[?25hRequirement already satisfied: attrs>=17.3.0 in /usr/local/lib/python3.7/dist-packages (from aiohttp->ray<1.2.0,>=1.0.0; extra == \"ray\"->modin[ray]>=0.8.1.1->swifter) (21.2.0)\n",
            "Requirement already satisfied: mistune<2,>=0.8.1 in /usr/local/lib/python3.7/dist-packages (from nbconvert->notebook>=4.4.1->widgetsnbextension~=3.5.0->ipywidgets>=7.0.0cloudpickle>=0.2.2->swifter) (0.8.4)\n",
            "Requirement already satisfied: entrypoints>=0.2.2 in /usr/local/lib/python3.7/dist-packages (from nbconvert->notebook>=4.4.1->widgetsnbextension~=3.5.0->ipywidgets>=7.0.0cloudpickle>=0.2.2->swifter) (0.3)\n",
            "Requirement already satisfied: testpath in /usr/local/lib/python3.7/dist-packages (from nbconvert->notebook>=4.4.1->widgetsnbextension~=3.5.0->ipywidgets>=7.0.0cloudpickle>=0.2.2->swifter) (0.4.4)\n",
            "Requirement already satisfied: defusedxml in /usr/local/lib/python3.7/dist-packages (from nbconvert->notebook>=4.4.1->widgetsnbextension~=3.5.0->ipywidgets>=7.0.0cloudpickle>=0.2.2->swifter) (0.7.1)\n",
            "Requirement already satisfied: pandocfilters>=1.4.1 in /usr/local/lib/python3.7/dist-packages (from nbconvert->notebook>=4.4.1->widgetsnbextension~=3.5.0->ipywidgets>=7.0.0cloudpickle>=0.2.2->swifter) (1.4.3)\n",
            "Requirement already satisfied: MarkupSafe>=0.23 in /usr/local/lib/python3.7/dist-packages (from jinja2->notebook>=4.4.1->widgetsnbextension~=3.5.0->ipywidgets>=7.0.0cloudpickle>=0.2.2->swifter) (2.0.0)\n",
            "Requirement already satisfied: googleapis-common-protos<2.0dev,>=1.6.0 in /usr/local/lib/python3.7/dist-packages (from google-api-core<2.0.0,>=1.0.0->opencensus->ray<1.2.0,>=1.0.0; extra == \"ray\"->modin[ray]>=0.8.1.1->swifter) (1.53.0)\n",
            "Requirement already satisfied: google-auth<2.0dev,>=1.21.1 in /usr/local/lib/python3.7/dist-packages (from google-api-core<2.0.0,>=1.0.0->opencensus->ray<1.2.0,>=1.0.0; extra == \"ray\"->modin[ray]>=0.8.1.1->swifter) (1.30.0)\n",
            "Requirement already satisfied: rsa<5,>=3.1.4; python_version >= \"3.6\" in /usr/local/lib/python3.7/dist-packages (from google-auth<2.0dev,>=1.21.1->google-api-core<2.0.0,>=1.0.0->opencensus->ray<1.2.0,>=1.0.0; extra == \"ray\"->modin[ray]>=0.8.1.1->swifter) (4.7.2)\n",
            "Requirement already satisfied: pyasn1-modules>=0.2.1 in /usr/local/lib/python3.7/dist-packages (from google-auth<2.0dev,>=1.21.1->google-api-core<2.0.0,>=1.0.0->opencensus->ray<1.2.0,>=1.0.0; extra == \"ray\"->modin[ray]>=0.8.1.1->swifter) (0.2.8)\n",
            "Requirement already satisfied: cachetools<5.0,>=2.0.0 in /usr/local/lib/python3.7/dist-packages (from google-auth<2.0dev,>=1.21.1->google-api-core<2.0.0,>=1.0.0->opencensus->ray<1.2.0,>=1.0.0; extra == \"ray\"->modin[ray]>=0.8.1.1->swifter) (4.2.2)\n",
            "Requirement already satisfied: pyasn1>=0.1.3 in /usr/local/lib/python3.7/dist-packages (from rsa<5,>=3.1.4; python_version >= \"3.6\"->google-auth<2.0dev,>=1.21.1->google-api-core<2.0.0,>=1.0.0->opencensus->ray<1.2.0,>=1.0.0; extra == \"ray\"->modin[ray]>=0.8.1.1->swifter) (0.4.8)\n",
            "Building wheels for collected packages: swifter, gpustat\n",
            "  Building wheel for swifter (setup.py) ... \u001b[?25l\u001b[?25hdone\n",
            "  Created wheel for swifter: filename=swifter-1.0.7-cp37-none-any.whl size=13980 sha256=c5ab5f49618ce33a7e4125486076d00cff1b2aa29ee6fa03f8779c2de2d4b564\n",
            "  Stored in directory: /root/.cache/pip/wheels/99/58/39/5b59c5f4d66ce67bf55f0178e0940c964e89e9f60d70376a37\n",
            "  Building wheel for gpustat (setup.py) ... \u001b[?25l\u001b[?25hdone\n",
            "  Created wheel for gpustat: filename=gpustat-0.6.0-cp37-none-any.whl size=12621 sha256=a336a67c912fc5c7b4b18cf1b3eb5f778e892ae325eea166dbe7641f24c01ea5\n",
            "  Stored in directory: /root/.cache/pip/wheels/48/b4/d5/fb5b7f1d040f2ff20687e3bad6867d63155dbde5a7c10f4293\n",
            "Successfully built swifter gpustat\n",
            "\u001b[31mERROR: modin 0.9.1 has requirement pandas==1.2.3, but you'll have pandas 1.1.5 which is incompatible.\u001b[0m\n",
            "Installing collected packages: psutil, blessings, gpustat, opencensus-context, opencensus, async-timeout, hiredis, aioredis, multidict, yarl, aiohttp, aiohttp-cors, colorful, py-spy, colorama, redis, ray, pyarrow, modin, swifter, fsspec, locket, partd\n",
            "  Found existing installation: psutil 5.4.8\n",
            "    Uninstalling psutil-5.4.8:\n",
            "      Successfully uninstalled psutil-5.4.8\n",
            "  Found existing installation: pyarrow 3.0.0\n",
            "    Uninstalling pyarrow-3.0.0:\n",
            "      Successfully uninstalled pyarrow-3.0.0\n",
            "Successfully installed aiohttp-3.7.4.post0 aiohttp-cors-0.7.0 aioredis-1.3.1 async-timeout-3.0.1 blessings-1.7 colorama-0.4.4 colorful-0.5.4 fsspec-2021.5.0 gpustat-0.6.0 hiredis-2.0.0 locket-0.2.1 modin-0.9.1 multidict-5.1.0 opencensus-0.7.13 opencensus-context-0.1.2 partd-1.2.0 psutil-5.8.0 py-spy-0.3.7 pyarrow-1.0.0 ray-1.1.0 redis-3.5.3 swifter-1.0.7 yarl-1.6.3\n"
          ],
          "name": "stdout"
        },
        {
          "output_type": "display_data",
          "data": {
            "application/vnd.colab-display-data+json": {
              "pip_warning": {
                "packages": [
                  "psutil"
                ]
              }
            }
          },
          "metadata": {
            "tags": []
          }
        }
      ]
    },
    {
      "cell_type": "markdown",
      "metadata": {
        "id": "cyUIDhvi7R6h"
      },
      "source": [
        "# Import Library"
      ]
    },
    {
      "cell_type": "code",
      "metadata": {
        "id": "U5z-s15k7WOz"
      },
      "source": [
        "#pandas and numpy\n",
        "import pandas as pd\n",
        "import numpy as np\n",
        "\n",
        "#nltk\n",
        "from nltk.tokenize import word_tokenize \n",
        "from nltk.probability import FreqDist\n",
        "from nltk.corpus import stopwords\n",
        "\n",
        "#Sastrawi\n",
        "from Sastrawi.Stemmer.StemmerFactory import StemmerFactory\n",
        "from Sastrawi.StopWordRemover.StopWordRemoverFactory import StopWordRemoverFactory\n",
        "import swifter\n",
        "\n",
        "#regex\n",
        "import string\n",
        "import re\n",
        "\n",
        "#tweet preprocessorF\n",
        "import preprocessor  as p"
      ],
      "execution_count": null,
      "outputs": []
    },
    {
      "cell_type": "code",
      "metadata": {
        "colab": {
          "base_uri": "https://localhost:8080/"
        },
        "id": "IPIAteqgRiyC",
        "outputId": "65e148f6-04bf-458b-828b-f97936aaba4b"
      },
      "source": [
        "import nltk\n",
        "nltk.download('punkt')\n",
        "nltk.download('stopwords')"
      ],
      "execution_count": null,
      "outputs": [
        {
          "output_type": "stream",
          "text": [
            "[nltk_data] Downloading package punkt to /root/nltk_data...\n",
            "[nltk_data]   Package punkt is already up-to-date!\n",
            "[nltk_data] Downloading package stopwords to /root/nltk_data...\n",
            "[nltk_data]   Unzipping corpora/stopwords.zip.\n"
          ],
          "name": "stdout"
        },
        {
          "output_type": "execute_result",
          "data": {
            "text/plain": [
              "True"
            ]
          },
          "metadata": {
            "tags": []
          },
          "execution_count": 76
        }
      ]
    },
    {
      "cell_type": "markdown",
      "metadata": {
        "id": "HaEYV2208A5d"
      },
      "source": [
        "# Import Data Tweet"
      ]
    },
    {
      "cell_type": "code",
      "metadata": {
        "id": "IxWDIcdE8FIW"
      },
      "source": [
        "df = pd.read_csv('/content/politik.csv')"
      ],
      "execution_count": null,
      "outputs": []
    },
    {
      "cell_type": "markdown",
      "metadata": {
        "id": "X0zJ_D4D8JOm"
      },
      "source": [
        "# Prerocessing"
      ]
    },
    {
      "cell_type": "markdown",
      "metadata": {
        "id": "SYuusrJBKoWs"
      },
      "source": [
        "hapus tweet selain bahasa indonesia"
      ]
    },
    {
      "cell_type": "code",
      "metadata": {
        "id": "39CTu0IJKs1j"
      },
      "source": [
        "df = df[df['language'] == 'id'].reset_index.drop(columns='index')"
      ],
      "execution_count": null,
      "outputs": []
    },
    {
      "cell_type": "markdown",
      "metadata": {
        "id": "SIxSWr2FIrNC"
      },
      "source": [
        "Case Folding"
      ]
    },
    {
      "cell_type": "code",
      "metadata": {
        "id": "waXTt8o9J8d7"
      },
      "source": [
        "df['case folded tweet'] = df['tweet'].str.lower()"
      ],
      "execution_count": null,
      "outputs": []
    },
    {
      "cell_type": "markdown",
      "metadata": {
        "id": "s61CiFYvJwIG"
      },
      "source": [
        "Normalization\n",
        "\n",
        "Remove Mention, Hashtag, Emoji, Smiley, Number, URL"
      ]
    },
    {
      "cell_type": "code",
      "metadata": {
        "id": "4IhGWj-nM-Ug"
      },
      "source": [
        "def normalization(tweet):\n",
        "    p.set_options(p.OPT.EMOJI, p.OPT.HASHTAG, p.OPT.MENTION, p.OPT.NUMBER, p.OPT.SMILEY, p.OPT.URL)\n",
        "    text = p.clean(tweet)\n",
        "    return text"
      ],
      "execution_count": null,
      "outputs": []
    },
    {
      "cell_type": "code",
      "metadata": {
        "id": "L0wlCbLQIzFi"
      },
      "source": [
        "#using tweet_preprocessor library\n",
        "df['tweet_normalized'] = df['case folded tweet'].apply(normalization)"
      ],
      "execution_count": null,
      "outputs": []
    },
    {
      "cell_type": "code",
      "metadata": {
        "id": "CXRv2WzuP09f"
      },
      "source": [
        "#using regex\n",
        "\n",
        "#remove special char\n",
        "def remove_tweet_special(text):\n",
        "    # remove tab, new line, ans back slice\n",
        "    text = text.replace('\\\\t',\" \").replace('\\\\n',\" \").replace('\\\\u',\" \").replace('\\\\',\"\")\n",
        "    # remove non ASCII (emoticon, chinese word, .etc)\n",
        "    text = text.encode('ascii', 'replace').decode('ascii')\n",
        "    # remove mention, link, hashtag\n",
        "    text = ' '.join(re.sub(\"([@#][A-Za-z0-9]+)|(\\w+:\\/\\/\\S+)\",\" \", text).split())\n",
        "    # remove incomplete URL\n",
        "    return text.replace(\"http://\", \" \").replace(\"https://\", \" \")\n",
        "\n",
        "#remove number\n",
        "def remove_number(text):\n",
        "    return  re.sub(r\"\\d+\", \"\", text)\n",
        "\n",
        "#remove punctuation\n",
        "def remove_punctuation(text):\n",
        "    return text.translate(str.maketrans(\"\",\"\",string.punctuation))\n",
        "\n",
        "#remove whitespace leading & trailing\n",
        "def remove_whitespace_LT(text):\n",
        "    return text.strip()\n",
        "\n",
        "#remove multiple whitespace into single whitespace\n",
        "def remove_whitespace_multiple(text):\n",
        "    return re.sub('\\s+',' ',text)\n",
        "\n",
        "# remove single char\n",
        "def remove_single_char(text):\n",
        "    return re.sub(r\"\\b[a-zA-Z]\\b\", \"\", text)\n",
        "\n",
        "df['tweet_normalized'] = df['tweet_normalized'].apply(remove_tweet_special)\n",
        "df['tweet_normalized'] = df['tweet_normalized'].apply(remove_number)\n",
        "df['tweet_normalized'] = df['tweet_normalized'].apply(remove_punctuation)\n",
        "df['tweet_normalized'] = df['tweet_normalized'].apply(remove_whitespace_multiple)\n",
        "df['tweet_normalized'] = df['tweet_normalized'].apply(remove_single_char)"
      ],
      "execution_count": null,
      "outputs": []
    },
    {
      "cell_type": "markdown",
      "metadata": {
        "id": "3Dzg75YcRU85"
      },
      "source": [
        "Tokenizing (NLTK)"
      ]
    },
    {
      "cell_type": "code",
      "metadata": {
        "id": "SSlghoOVRWnA"
      },
      "source": [
        "def word_tokenize_wrapper(text):\n",
        "    return word_tokenize(text)\n",
        "\n",
        "df['tweet_tokenized'] = df['tweet_normalized'].apply(word_tokenize_wrapper)"
      ],
      "execution_count": null,
      "outputs": []
    },
    {
      "cell_type": "markdown",
      "metadata": {
        "id": "CTcI67gEWxYU"
      },
      "source": [
        "Normalisasi kata gaul dan singakatan"
      ]
    },
    {
      "cell_type": "code",
      "metadata": {
        "id": "D_OwkwXkMLn5"
      },
      "source": [
        "kamus_alay = pd.read_csv('/content/new_kamusalay.csv', encoding='latin-1')\n",
        "\n",
        "kamus_alay_dict = {}\n",
        "\n",
        "for index, row in kamus_alay.iterrows():\n",
        "  if row[0] not in kamus_alay:\n",
        "    kamus_alay_dict[row[0]] = row[1]\n",
        "\n",
        "def normalized_alay(document):\n",
        "  return [kamus_alay_dict[term] if word in kamus_alay_dict else word for word in document]\n",
        "\n",
        "df['tweet_normalized_slang'] = df['tweet_tokenized'].apply(normalized_alay)  "
      ],
      "execution_count": null,
      "outputs": []
    },
    {
      "cell_type": "markdown",
      "metadata": {
        "id": "SHqaftplawQF"
      },
      "source": [
        "Filtering"
      ]
    },
    {
      "cell_type": "code",
      "metadata": {
        "id": "q3xMPhAzZvMS"
      },
      "source": [
        "#ambil stopword bahasa indonesia\n",
        "list_stopwords = stopwords.words('indonesian')\n",
        "\n",
        "#menambahkan stopword secara manual\n",
        "list_stopwords.extend(['yg', 'dg', 'rt', 'dgn', 'ny', 'd', 'klo', \n",
        "                       'kalo', 'amp', 'biar', 'bikin', 'bilang', \n",
        "                       'gak', 'ga', 'krn', 'nya', 'nih', 'sih', \n",
        "                       'si', 'tau', 'tdk', 'tuh', 'utk', 'ya', \n",
        "                       'jd', 'jgn', 'sdh', 'aja', 'n', 't', \n",
        "                       'nyg', 'hehe', 'pen', 'u', 'nan', 'loh', 'rt',\n",
        "                       '&amp', 'yah', 'no', 'je', 'om', 'pru', 'sch',\n",
        "                       'injirrr', 'ah', 'oena', 'bu', 'eh'])\n",
        "\n",
        "list_stopwords = set(list_stopwords)\n",
        "\n",
        "def stopwords_removal(document):\n",
        "  return [word for word in document if word not in list_stopwords]\n",
        "\n",
        "df['filtered_tweet'] = df['tweet_normalized_slang'].apply(stopwords_removal)"
      ],
      "execution_count": null,
      "outputs": []
    },
    {
      "cell_type": "markdown",
      "metadata": {
        "id": "ODWKMSPnfJm_"
      },
      "source": [
        "Stemming"
      ]
    },
    {
      "cell_type": "code",
      "metadata": {
        "colab": {
          "base_uri": "https://localhost:8080/",
          "height": 1000,
          "referenced_widgets": [
            "52ce99b1517742f9b06c31f6b56bf237",
            "2a7540fbf6774ec2b6daf2a75f135a72",
            "b86b8f1cf57145738ee991cd6896149c",
            "d64369d71efd42e4aa497fc839cfb75e",
            "d5bb2ad3c93e4ec9898812af6ce882f8",
            "d014687360f8438892e7f8f71eda3051",
            "29fd3e0b2c794c3eaf48c1c1c4434dcf",
            "032f0de5b01d429db3d75b83c0d8d46b"
          ]
        },
        "id": "ATzFGRX7fKtx",
        "outputId": "40fa145d-68d4-41db-dc13-cc62712a166a"
      },
      "source": [
        "#buat stemmer\n",
        "factory = StemmerFactory()\n",
        "stemmer = factory.create_stemmer()\n",
        "\n",
        "#stemmed wrapper\n",
        "def stemmed_wrapper(term):\n",
        "  return stemmer.stem(term)\n",
        "\n",
        "term_dict = {}\n",
        "\n",
        "for document in df['filtered_tweet']:\n",
        "  for term in document:\n",
        "    if term not in term_dict:\n",
        "      term_dict[term] = ' '\n",
        "\n",
        "print(len(term_dict))\n",
        "print(\"------------------------\")\n",
        "\n",
        "for term in term_dict:\n",
        "    term_dict[term] = stemmed_wrapper(term)\n",
        "    print(term,\":\" ,term_dict[term])\n",
        "    \n",
        "print(term_dict)\n",
        "print(\"------------------------\")\n",
        "\n",
        "#memmulai stemming\n",
        "def apply_stemmed_term(document):\n",
        "  return [term_dict[term] for term in document]\n",
        "\n",
        "df['stemmed_tweet'] = df['filtered_tweet'].swifter.apply(apply_stemmed_term)"
      ],
      "execution_count": null,
      "outputs": [
        {
          "output_type": "stream",
          "text": [
            "441\n",
            "------------------------\n",
            "kepala : kepala\n",
            "biro : biro\n",
            "politik : politik\n",
            "hamas : hamas\n",
            "ismail : ismail\n",
            "haniah : haniah\n",
            "sujud : sujud\n",
            "syukur : syukur\n",
            "kemenangan : menang\n",
            "pejuang : juang\n",
            "palestina : palestina\n",
            "intelijen : intelijen\n",
            "aktif : aktif\n",
            "bermain : main\n",
            "media sosial : media sosial\n",
            "berita : berita\n",
            "editan : edit\n",
            "media : media\n",
            "opini : opini\n",
            "akun : akun\n",
            "pendukung : dukung\n",
            "warganet : warganet\n",
            "terprovokasi : provokasi\n",
            "hina : hina\n",
            "omong : omong\n",
            "sembarangan : sembarang\n",
            "dipertaruhkan : taruh\n",
            "bahas : bahas\n",
            "utamakan : utama\n",
            "domestik : domestik\n",
            "prospek : prospek\n",
            "kerja : kerja\n",
            "ilmu : ilmu\n",
            "komunikasi : komunikasi\n",
            "masuk : masuk\n",
            "dunia : dunia\n",
            "mencari : cari\n",
            "bingung : bingung\n",
            "setuju : tuju\n",
            "amhendropriyono : amhendropriyono\n",
            "urusan : urus\n",
            "mengurus : urus\n",
            "kehidupan : hidup\n",
            "anak : anak\n",
            "bagus : bagus\n",
            "gen : gen\n",
            "penerus : terus\n",
            "pekerjaan rumah : kerja rumah\n",
            "konflik : konflik\n",
            "lawan : lawan\n",
            "wilayah : wilayah\n",
            "agama : agama\n",
            "stop : stop\n",
            "framing : framing\n",
            "isu : isu\n",
            "aturan : atur\n",
            "dimana : mana\n",
            "area : area\n",
            "halaman : halaman\n",
            "kedutaan : duta\n",
            "beraku : bera\n",
            "kedaulatan : daulat\n",
            "negara : negara\n",
            "berasal : asal\n",
            "sambut : sambut\n",
            "satpam : satpam\n",
            "mewakili : wakil\n",
            "partai : partai\n",
            "pakai : pakai\n",
            "demo : demo\n",
            "tata : tata\n",
            "krama : krama\n",
            "derma : derma\n",
            "ahli : ahli\n",
            "suka : suka\n",
            "main : main\n",
            "kat : kat\n",
            "mesia : mesia\n",
            "kj : kj\n",
            "nak : nak\n",
            "cina : cina\n",
            "know : know\n",
            "the : the\n",
            "true : true\n",
            "cost : cost\n",
            "malaysia : malaysia\n",
            "memerintah : perintah\n",
            "perosak : perosak\n",
            "dajal : dajal\n",
            "mengambil : ambil\n",
            "takhta : takhta\n",
            "diperintah : perintah\n",
            "pembela : bela\n",
            "as : as\n",
            "kadrun : kadrun\n",
            "pura : pura\n",
            "zolimin : zolimin\n",
            "menindas : tindas\n",
            "intimidasi : intimidasi\n",
            "diskriminasi : diskriminasi\n",
            "orang : orang\n",
            "sepahamlawan : sepahamlawan\n",
            "kayak : kayak\n",
            "pemerintahan : perintah\n",
            "gaji : gaji\n",
            "benci : benci\n",
            "merongrong : rongrong\n",
            "korupsi : korupsi\n",
            "pecat : pecat\n",
            "teriak : teriak\n",
            "menteri : menteri\n",
            "lebai : lebai\n",
            "pon : pon\n",
            "bangsat : bangsat\n",
            "point : point\n",
            "takut : takut\n",
            "kalah : kalah\n",
            "tulah : tulah\n",
            "pintu : pintu\n",
            "mne : mne\n",
            "admin : admin\n",
            "akibatnya : akibat\n",
            "mudah : mudah\n",
            "dibajak : bajak\n",
            "kepentingan : penting\n",
            "keterbelahan : belah\n",
            "diperbaiki : baik\n",
            "sengaja : sengaja\n",
            "dibiarkan : biar\n",
            "taplak : taplak\n",
            "meja : meja\n",
            "ikon : ikon\n",
            "pembelahan : belah\n",
            "bineka : bineka\n",
            "warisan : waris\n",
            "ibadah : ibadah\n",
            "wajib : wajib\n",
            "individu : individu\n",
            "jualan : jual\n",
            "sidaqoh : sidaqoh\n",
            "obralpd : obralpd\n",
            "tangan : tangan\n",
            "kanan : kanan\n",
            "kiri : kiri\n",
            "kualitas : kualitas\n",
            "tim : tim\n",
            "ses : ses\n",
            "dijual : jual\n",
            "prestasi : prestasi\n",
            "perjuangan : juang\n",
            "koridor : koridor\n",
            "konstitusi : konstitusi\n",
            "kekerasan : keras\n",
            "sandiwara : sandiwara\n",
            "muslim : muslim\n",
            "dinegaranya : negara\n",
            "zalimi : zalim\n",
            "gampang : gampang\n",
            "banget : banget\n",
            "memaki : maki\n",
            "geopolitik : geopolitik\n",
            "lokal : lokal\n",
            "dasar : dasar\n",
            "goblook : goblook\n",
            "lihat : lihat\n",
            "berbeda : beda\n",
            "humanitarian : humanitarian\n",
            "crisis : crisis\n",
            "gaza : gaza\n",
            "bangunan : bangun\n",
            "rusak : rusak\n",
            "satunya : satu\n",
            "lab : lab\n",
            "testing : testing\n",
            "covid : covid\n",
            "korban : korban\n",
            "jiwa : jiwa\n",
            "terlepas : lepas\n",
            "internal : internal\n",
            "di sana : di sana\n",
            "aku pikir : aku pikir\n",
            "alasan : alas\n",
            "aid : aid\n",
            "tuntutan : tuntut\n",
            "kerumunan : kerumun\n",
            "surat pemberitahuan tahunan : surat pemberitahuan tahun\n",
            "babi : babi\n",
            "turun : turun\n",
            "padang : padang\n",
            "tengok : tengok\n",
            "kawasan : kawasan\n",
            "ramai : ramai\n",
            "stres : stres\n",
            "hilang : hilang\n",
            "susah : susah\n",
            "hidup : hidup\n",
            "bodoh : bodoh\n",
            "tunggu : tunggu\n",
            "cadangan : cadang\n",
            "potong : potong\n",
            "elaun : elaun\n",
            "bersuara : suara\n",
            "sembang : sembang\n",
            "penyatuan : satu\n",
            "solusi : solusi\n",
            "palestinisrael : palestinisrael\n",
            "pecah : pecah\n",
            "perintah : perintah\n",
            "orangnya : orang\n",
            "salah : salah\n",
            "rumah : rumah\n",
            "kelas : kelas\n",
            "sekolah : sekolah\n",
            "kantor : kantor\n",
            "seram : seram\n",
            "berhubung : hubung\n",
            "sekolahku : sekolah\n",
            "pejabat : jabat\n",
            "petinggi : petinggi\n",
            "sponsorship : sponsorship\n",
            "mantuliti : mantuliti\n",
            "pokoknya : pokok\n",
            "ideologi : ideologi\n",
            "pegang : pegang\n",
            "sapu : sapu\n",
            "elok : elok\n",
            "time : time\n",
            "pikir : pikir\n",
            "survivor : survivor\n",
            "ambil : ambil\n",
            "pic : pic\n",
            "twitter : twitter\n",
            "jatikhwan : jatikhwan\n",
            "keren : keren\n",
            "genjatan : genjatan\n",
            "senjata : senjata\n",
            "lepas : lepas\n",
            "tutup : tutup\n",
            "mata : mata\n",
            "nasib : nasib\n",
            "palestinians : palestinians\n",
            "lupa : lupa\n",
            "jaga : jaga\n",
            "malaunmalaun : malaunmalaun\n",
            "patuhi : patuh\n",
            "sop : sop\n",
            "natural killer : natural killer\n",
            "kalut : kalut\n",
            "ribut : ribut\n",
            "ayyo : ayyo\n",
            "suruh : suruh\n",
            "fatah : fatah\n",
            "centu : centu\n",
            "control : control\n",
            "nama : nama\n",
            "kaum : kaum\n",
            "jadik : jadik\n",
            "modal : modal\n",
            "party : party\n",
            "ajaran : ajar\n",
            "sesat : sesat\n",
            "bertentangan : tentang\n",
            "mention : mention\n",
            "abt : abt\n",
            "their : their\n",
            "menikah : meni\n",
            "and : and\n",
            "achievement : achievement\n",
            "todate : todate\n",
            "malu : malu\n",
            "oiii : oiii\n",
            "ku : ku\n",
            "sukanya : suka\n",
            "sejarah : sejarah\n",
            "berbau : bau\n",
            "beuh : beuh\n",
            "mantap : mantap\n",
            "mizoguchi : mizoguchi\n",
            "mengisi : isi\n",
            "jam : jam\n",
            "film : film\n",
            "diskusi : diskusi\n",
            "pertimbangan : timbang\n",
            "moral : moral\n",
            "kode : kode\n",
            "etik : etik\n",
            "samurai : samurai\n",
            "benarbenar : benarbenar\n",
            "mengeksekusi : eksekusi\n",
            "balas : balas\n",
            "dendam : dendam\n",
            "bangga : bangga\n",
            "bunuh : bunuh\n",
            "massal : massal\n",
            "sukses : sukses\n",
            "tugasnya : tugas\n",
            "ramalan : ramal\n",
            "guncangan : guncang\n",
            "nasional : nasional\n",
            "asli : asli\n",
            "deh : deh\n",
            "mending : mending\n",
            "lini masa : lini masa\n",
            "facebook : facebook\n",
            "isinya : isi\n",
            "penuh : penuh\n",
            "gelud : gelud\n",
            "nikah : nikah\n",
            "muda : muda\n",
            "gedek : gedek\n",
            "tabu : tabu\n",
            "hoaks : hoaks\n",
            "permainan : main\n",
            "wkwk : wkwk\n",
            "hoekks : hoekks\n",
            "hoekshoeks : hoekshoeks\n",
            "di orang : di orang\n",
            "harap : harap\n",
            "nentahyun : nentahyun\n",
            "dipecat : pecat\n",
            "maklum : maklum\n",
            "kubu : kubu\n",
            "coba : coba\n",
            "beda : beda\n",
            "politiknya : politik\n",
            "tahajud : tahajud\n",
            "duha : duha\n",
            "tuhan : tuhan\n",
            "menagih : tagih\n",
            "janjikan : janji\n",
            "poin : poin\n",
            "membedakan : beda\n",
            "isl : isl\n",
            "ipl : ipl\n",
            "sakitnya : sakit\n",
            "hati : hati\n",
            "baca : baca\n",
            "agenda : agenda\n",
            "ai : ai\n",
            "seksa : seksa\n",
            "sebelah : belah\n",
            "pulakk : pulakk\n",
            "kemain : main\n",
            "komen : komen\n",
            "ughhh : ughhh\n",
            "pengamat : amat\n",
            "ujang : ujang\n",
            "komarudin : komarudin\n",
            "menjabarkan : jabar\n",
            "prediksinya : prediksi\n",
            "terkait : kait\n",
            "kandidat : kandidat\n",
            "dipilih : pilih\n",
            "jokowi : jokowi\n",
            "pemilihan presiden : pilih presiden\n",
            "simak : simak\n",
            "selengkapnya : lengkap\n",
            "kkn : kkn\n",
            "parah : parah\n",
            "bro : bro\n",
            "era : era\n",
            "meningkat : tingkat\n",
            "dahsyat : dahsyat\n",
            "ngeri : ngeri\n",
            "dilindungi : lindung\n",
            "elite : elite\n",
            "penegak : tegak\n",
            "hukum : hukum\n",
            "bersenjata : senjata\n",
            "erdogan : erdogan\n",
            "melempar : lempar\n",
            "kerikil : kerikil\n",
            "zionis : zionis\n",
            "berani : berani\n",
            "bacotnya : bacot\n",
            "berbusa : busa\n",
            "bela : bela\n",
            "aduh : aduh\n",
            "analis : analis\n",
            "cap : cap\n",
            "odong : odong\n",
            "nalarnya : nalar\n",
            "kritik : kritik\n",
            "halus : halus\n",
            "sepak : sepak\n",
            "bola : bola\n",
            "dibawa : bawa\n",
            "ranah : ranah\n",
            "mabuk : mabuk\n",
            "bablas : bablas\n",
            "utama : utama\n",
            "di luar : di luar\n",
            "olahraga : olahraga\n",
            "keluarga : keluarga\n",
            "hobi : hobi\n",
            "dikompori : kompor\n",
            "sanggup : sanggup\n",
            "diterima : terima\n",
            "sayang : sayang\n",
            "israel : israel\n",
            "perang : perang\n",
            "penjuru : penjuru\n",
            "dalaman : dalam\n",
            "tekanan : tekan\n",
            "antara bangsa : antara bangsa\n",
            "julung : julung\n",
            "kalinya : kali\n",
            "ketiga : tiga\n",
            "memburukkan : buruk\n",
            "sejujurnya : jujur\n",
            "handle : handle\n",
            "menampak : tampak\n",
            "peace : peace\n",
            "process : process\n",
            "sok : sok\n",
            "back : back\n",
            "to : to\n",
            "square : square\n",
            "one : one\n",
            "politikus : politikus\n",
            "gerindra : gerindra\n",
            "ajak : ajak\n",
            "terjun : terjun\n",
            "biarlah : biar\n",
            "majlis : majlis\n",
            "penasihat : nasihat\n",
            "darurat : darurat\n",
            "dilantik : lantik\n",
            "kalangan : kalang\n",
            "profesional : profesional\n",
            "menjalankan : jalan\n",
            "tanggung jawab : tanggung jawab\n",
            "keselamatan : selamat\n",
            "kemaslahatan : maslahat\n",
            "rakyat : rakyat\n",
            "kang : kang\n",
            "enggak benar : enggak benar\n",
            "kontrak : kontrak\n",
            "kilapak : kilapak\n",
            "namanya : nama\n",
            "mbak : mbak\n",
            "{'kepala': 'kepala', 'biro': 'biro', 'politik': 'politik', 'hamas': 'hamas', 'ismail': 'ismail', 'haniah': 'haniah', 'sujud': 'sujud', 'syukur': 'syukur', 'kemenangan': 'menang', 'pejuang': 'juang', 'palestina': 'palestina', 'intelijen': 'intelijen', 'aktif': 'aktif', 'bermain': 'main', 'media sosial': 'media sosial', 'berita': 'berita', 'editan': 'edit', 'media': 'media', 'opini': 'opini', 'akun': 'akun', 'pendukung': 'dukung', 'warganet': 'warganet', 'terprovokasi': 'provokasi', 'hina': 'hina', 'omong': 'omong', 'sembarangan': 'sembarang', 'dipertaruhkan': 'taruh', 'bahas': 'bahas', 'utamakan': 'utama', 'domestik': 'domestik', 'prospek': 'prospek', 'kerja': 'kerja', 'ilmu': 'ilmu', 'komunikasi': 'komunikasi', 'masuk': 'masuk', 'dunia': 'dunia', 'mencari': 'cari', 'bingung': 'bingung', 'setuju': 'tuju', 'amhendropriyono': 'amhendropriyono', 'urusan': 'urus', 'mengurus': 'urus', 'kehidupan': 'hidup', 'anak': 'anak', 'bagus': 'bagus', 'gen': 'gen', 'penerus': 'terus', 'pekerjaan rumah': 'kerja rumah', 'konflik': 'konflik', 'lawan': 'lawan', 'wilayah': 'wilayah', 'agama': 'agama', 'stop': 'stop', 'framing': 'framing', 'isu': 'isu', 'aturan': 'atur', 'dimana': 'mana', 'area': 'area', 'halaman': 'halaman', 'kedutaan': 'duta', 'beraku': 'bera', 'kedaulatan': 'daulat', 'negara': 'negara', 'berasal': 'asal', 'sambut': 'sambut', 'satpam': 'satpam', 'mewakili': 'wakil', 'partai': 'partai', 'pakai': 'pakai', 'demo': 'demo', 'tata': 'tata', 'krama': 'krama', 'derma': 'derma', 'ahli': 'ahli', 'suka': 'suka', 'main': 'main', 'kat': 'kat', 'mesia': 'mesia', 'kj': 'kj', 'nak': 'nak', 'cina': 'cina', 'know': 'know', 'the': 'the', 'true': 'true', 'cost': 'cost', 'malaysia': 'malaysia', 'memerintah': 'perintah', 'perosak': 'perosak', 'dajal': 'dajal', 'mengambil': 'ambil', 'takhta': 'takhta', 'diperintah': 'perintah', 'pembela': 'bela', 'as': 'as', 'kadrun': 'kadrun', 'pura': 'pura', 'zolimin': 'zolimin', 'menindas': 'tindas', 'intimidasi': 'intimidasi', 'diskriminasi': 'diskriminasi', 'orang': 'orang', 'sepahamlawan': 'sepahamlawan', 'kayak': 'kayak', 'pemerintahan': 'perintah', 'gaji': 'gaji', 'benci': 'benci', 'merongrong': 'rongrong', 'korupsi': 'korupsi', 'pecat': 'pecat', 'teriak': 'teriak', 'menteri': 'menteri', 'lebai': 'lebai', 'pon': 'pon', 'bangsat': 'bangsat', 'point': 'point', 'takut': 'takut', 'kalah': 'kalah', 'tulah': 'tulah', 'pintu': 'pintu', 'mne': 'mne', 'admin': 'admin', 'akibatnya': 'akibat', 'mudah': 'mudah', 'dibajak': 'bajak', 'kepentingan': 'penting', 'keterbelahan': 'belah', 'diperbaiki': 'baik', 'sengaja': 'sengaja', 'dibiarkan': 'biar', 'taplak': 'taplak', 'meja': 'meja', 'ikon': 'ikon', 'pembelahan': 'belah', 'bineka': 'bineka', 'warisan': 'waris', 'ibadah': 'ibadah', 'wajib': 'wajib', 'individu': 'individu', 'jualan': 'jual', 'sidaqoh': 'sidaqoh', 'obralpd': 'obralpd', 'tangan': 'tangan', 'kanan': 'kanan', 'kiri': 'kiri', 'kualitas': 'kualitas', 'tim': 'tim', 'ses': 'ses', 'dijual': 'jual', 'prestasi': 'prestasi', 'perjuangan': 'juang', 'koridor': 'koridor', 'konstitusi': 'konstitusi', 'kekerasan': 'keras', 'sandiwara': 'sandiwara', 'muslim': 'muslim', 'dinegaranya': 'negara', 'zalimi': 'zalim', 'gampang': 'gampang', 'banget': 'banget', 'memaki': 'maki', 'geopolitik': 'geopolitik', 'lokal': 'lokal', 'dasar': 'dasar', 'goblook': 'goblook', 'lihat': 'lihat', 'berbeda': 'beda', 'humanitarian': 'humanitarian', 'crisis': 'crisis', 'gaza': 'gaza', 'bangunan': 'bangun', 'rusak': 'rusak', 'satunya': 'satu', 'lab': 'lab', 'testing': 'testing', 'covid': 'covid', 'korban': 'korban', 'jiwa': 'jiwa', 'terlepas': 'lepas', 'internal': 'internal', 'di sana': 'di sana', 'aku pikir': 'aku pikir', 'alasan': 'alas', 'aid': 'aid', 'tuntutan': 'tuntut', 'kerumunan': 'kerumun', 'surat pemberitahuan tahunan': 'surat pemberitahuan tahun', 'babi': 'babi', 'turun': 'turun', 'padang': 'padang', 'tengok': 'tengok', 'kawasan': 'kawasan', 'ramai': 'ramai', 'stres': 'stres', 'hilang': 'hilang', 'susah': 'susah', 'hidup': 'hidup', 'bodoh': 'bodoh', 'tunggu': 'tunggu', 'cadangan': 'cadang', 'potong': 'potong', 'elaun': 'elaun', 'bersuara': 'suara', 'sembang': 'sembang', 'penyatuan': 'satu', 'solusi': 'solusi', 'palestinisrael': 'palestinisrael', 'pecah': 'pecah', 'perintah': 'perintah', 'orangnya': 'orang', 'salah': 'salah', 'rumah': 'rumah', 'kelas': 'kelas', 'sekolah': 'sekolah', 'kantor': 'kantor', 'seram': 'seram', 'berhubung': 'hubung', 'sekolahku': 'sekolah', 'pejabat': 'jabat', 'petinggi': 'petinggi', 'sponsorship': 'sponsorship', 'mantuliti': 'mantuliti', 'pokoknya': 'pokok', 'ideologi': 'ideologi', 'pegang': 'pegang', 'sapu': 'sapu', 'elok': 'elok', 'time': 'time', 'pikir': 'pikir', 'survivor': 'survivor', 'ambil': 'ambil', 'pic': 'pic', 'twitter': 'twitter', 'jatikhwan': 'jatikhwan', 'keren': 'keren', 'genjatan': 'genjatan', 'senjata': 'senjata', 'lepas': 'lepas', 'tutup': 'tutup', 'mata': 'mata', 'nasib': 'nasib', 'palestinians': 'palestinians', 'lupa': 'lupa', 'jaga': 'jaga', 'malaunmalaun': 'malaunmalaun', 'patuhi': 'patuh', 'sop': 'sop', 'natural killer': 'natural killer', 'kalut': 'kalut', 'ribut': 'ribut', 'ayyo': 'ayyo', 'suruh': 'suruh', 'fatah': 'fatah', 'centu': 'centu', 'control': 'control', 'nama': 'nama', 'kaum': 'kaum', 'jadik': 'jadik', 'modal': 'modal', 'party': 'party', 'ajaran': 'ajar', 'sesat': 'sesat', 'bertentangan': 'tentang', 'mention': 'mention', 'abt': 'abt', 'their': 'their', 'menikah': 'meni', 'and': 'and', 'achievement': 'achievement', 'todate': 'todate', 'malu': 'malu', 'oiii': 'oiii', 'ku': 'ku', 'sukanya': 'suka', 'sejarah': 'sejarah', 'berbau': 'bau', 'beuh': 'beuh', 'mantap': 'mantap', 'mizoguchi': 'mizoguchi', 'mengisi': 'isi', 'jam': 'jam', 'film': 'film', 'diskusi': 'diskusi', 'pertimbangan': 'timbang', 'moral': 'moral', 'kode': 'kode', 'etik': 'etik', 'samurai': 'samurai', 'benarbenar': 'benarbenar', 'mengeksekusi': 'eksekusi', 'balas': 'balas', 'dendam': 'dendam', 'bangga': 'bangga', 'bunuh': 'bunuh', 'massal': 'massal', 'sukses': 'sukses', 'tugasnya': 'tugas', 'ramalan': 'ramal', 'guncangan': 'guncang', 'nasional': 'nasional', 'asli': 'asli', 'deh': 'deh', 'mending': 'mending', 'lini masa': 'lini masa', 'facebook': 'facebook', 'isinya': 'isi', 'penuh': 'penuh', 'gelud': 'gelud', 'nikah': 'nikah', 'muda': 'muda', 'gedek': 'gedek', 'tabu': 'tabu', 'hoaks': 'hoaks', 'permainan': 'main', 'wkwk': 'wkwk', 'hoekks': 'hoekks', 'hoekshoeks': 'hoekshoeks', 'di orang': 'di orang', 'harap': 'harap', 'nentahyun': 'nentahyun', 'dipecat': 'pecat', 'maklum': 'maklum', 'kubu': 'kubu', 'coba': 'coba', 'beda': 'beda', 'politiknya': 'politik', 'tahajud': 'tahajud', 'duha': 'duha', 'tuhan': 'tuhan', 'menagih': 'tagih', 'janjikan': 'janji', 'poin': 'poin', 'membedakan': 'beda', 'isl': 'isl', 'ipl': 'ipl', 'sakitnya': 'sakit', 'hati': 'hati', 'baca': 'baca', 'agenda': 'agenda', 'ai': 'ai', 'seksa': 'seksa', 'sebelah': 'belah', 'pulakk': 'pulakk', 'kemain': 'main', 'komen': 'komen', 'ughhh': 'ughhh', 'pengamat': 'amat', 'ujang': 'ujang', 'komarudin': 'komarudin', 'menjabarkan': 'jabar', 'prediksinya': 'prediksi', 'terkait': 'kait', 'kandidat': 'kandidat', 'dipilih': 'pilih', 'jokowi': 'jokowi', 'pemilihan presiden': 'pilih presiden', 'simak': 'simak', 'selengkapnya': 'lengkap', 'kkn': 'kkn', 'parah': 'parah', 'bro': 'bro', 'era': 'era', 'meningkat': 'tingkat', 'dahsyat': 'dahsyat', 'ngeri': 'ngeri', 'dilindungi': 'lindung', 'elite': 'elite', 'penegak': 'tegak', 'hukum': 'hukum', 'bersenjata': 'senjata', 'erdogan': 'erdogan', 'melempar': 'lempar', 'kerikil': 'kerikil', 'zionis': 'zionis', 'berani': 'berani', 'bacotnya': 'bacot', 'berbusa': 'busa', 'bela': 'bela', 'aduh': 'aduh', 'analis': 'analis', 'cap': 'cap', 'odong': 'odong', 'nalarnya': 'nalar', 'kritik': 'kritik', 'halus': 'halus', 'sepak': 'sepak', 'bola': 'bola', 'dibawa': 'bawa', 'ranah': 'ranah', 'mabuk': 'mabuk', 'bablas': 'bablas', 'utama': 'utama', 'di luar': 'di luar', 'olahraga': 'olahraga', 'keluarga': 'keluarga', 'hobi': 'hobi', 'dikompori': 'kompor', 'sanggup': 'sanggup', 'diterima': 'terima', 'sayang': 'sayang', 'israel': 'israel', 'perang': 'perang', 'penjuru': 'penjuru', 'dalaman': 'dalam', 'tekanan': 'tekan', 'antara bangsa': 'antara bangsa', 'julung': 'julung', 'kalinya': 'kali', 'ketiga': 'tiga', 'memburukkan': 'buruk', 'sejujurnya': 'jujur', 'handle': 'handle', 'menampak': 'tampak', 'peace': 'peace', 'process': 'process', 'sok': 'sok', 'back': 'back', 'to': 'to', 'square': 'square', 'one': 'one', 'politikus': 'politikus', 'gerindra': 'gerindra', 'ajak': 'ajak', 'terjun': 'terjun', 'biarlah': 'biar', 'majlis': 'majlis', 'penasihat': 'nasihat', 'darurat': 'darurat', 'dilantik': 'lantik', 'kalangan': 'kalang', 'profesional': 'profesional', 'menjalankan': 'jalan', 'tanggung jawab': 'tanggung jawab', 'keselamatan': 'selamat', 'kemaslahatan': 'maslahat', 'rakyat': 'rakyat', 'kang': 'kang', 'enggak benar': 'enggak benar', 'kontrak': 'kontrak', 'kilapak': 'kilapak', 'namanya': 'nama', 'mbak': 'mbak'}\n",
            "------------------------\n"
          ],
          "name": "stdout"
        },
        {
          "output_type": "display_data",
          "data": {
            "application/vnd.jupyter.widget-view+json": {
              "model_id": "52ce99b1517742f9b06c31f6b56bf237",
              "version_minor": 0,
              "version_major": 2
            },
            "text/plain": [
              "HBox(children=(FloatProgress(value=0.0, description='Pandas Apply', max=46.0, style=ProgressStyle(description_…"
            ]
          },
          "metadata": {
            "tags": []
          }
        },
        {
          "output_type": "stream",
          "text": [
            "\n"
          ],
          "name": "stdout"
        }
      ]
    },
    {
      "cell_type": "code",
      "metadata": {
        "colab": {
          "base_uri": "https://localhost:8080/"
        },
        "id": "GBPTQDGahdju",
        "outputId": "cc1b1371-443d-4f3d-b1ae-e84224feafd0"
      },
      "source": [
        "df['stemmed_tweet']"
      ],
      "execution_count": null,
      "outputs": [
        {
          "output_type": "execute_result",
          "data": {
            "text/plain": [
              "0     [kepala, biro, politik, hamas, ismail, haniah,...\n",
              "1     [intelijen, aktif, main, media sosial, berita,...\n",
              "5     [prospek, kerja, ilmu, komunikasi, masuk, duni...\n",
              "6     [tuju, amhendropriyono, urus, urus, hidup, ana...\n",
              "8     [atur, mana, area, halaman, duta, bera, daulat...\n",
              "9     [derma, derma, ahli, politik, suka, main, derm...\n",
              "11    [politik, malaysia, perintah, perosak, dajal, ...\n",
              "12    [kadrun, pura, zolimin, tindas, intimidasi, di...\n",
              "13         [menteri, nak, politik, lebai, pon, bangsat]\n",
              "16    [point, politik, takut, kalah, kalah, tulah, m...\n",
              "17       [akibat, mudah, akun, bajak, penting, politik]\n",
              "20    [belah, baik, sengaja, biar, taplak, meja, iko...\n",
              "23    [urus, ibadah, wajib, individu, jual, politik,...\n",
              "24         [juang, politik, koridor, konstitusi, keras]\n",
              "25    [sandiwara, politik, muslim, negara, muslim, z...\n",
              "28    [gampang, banget, maki, kadrun, isu, geopoliti...\n",
              "32    [lihat, beda, humanitarian, crisis, gaza, bang...\n",
              "33    [tuntut, kerumun, surat pemberitahuan tahun, t...\n",
              "37    [ahli, politik, babi, turun, padang, tengok, k...\n",
              "41    [sembang, satu, solusi, palestinisrael, pecah,...\n",
              "42       [salah, rumah, masuk, kelas, politik, sekolah]\n",
              "43                     [politik, kantor, seram, banget]\n",
              "44    [hubung, sekolah, anak, jabat, petinggi, spons...\n",
              "46                    [ideologi, politik, pegang, sapu]\n",
              "47               [elok, time, pikir, survivor, politik]\n",
              "49    [ambil, pic, twitter, jatikhwan, keren, genjat...\n",
              "51    [nak, suruh, fatah, centu, control, politik, p...\n",
              "52    [nama, kaum, agama, nak, jadik, modal, politik...\n",
              "53      [ku, suka, sejarah, bau, politik, beuh, mantap]\n",
              "54    [mizoguchi, isi, jam, film, diskusi, timbang, ...\n",
              "55         [ramal, politik, guncang, politik, nasional]\n",
              "56    [asli, deh, mending, lini masa, facebook, isi,...\n",
              "57    [suka, tabu, hoaks, main, politik, hoaks, wkwk...\n",
              "58    [tunggu, politik, di orang, harap, nentahyun, ...\n",
              "63    [maklum, politik, kubu, kubu, coba, beda, poli...\n",
              "64    [sakit, hati, baca, agenda, politik, ai, seksa...\n",
              "67    [amat, politik, ujang, komarudin, jabar, predi...\n",
              "71    [kkn, parah, bro, era, jokowi, kkn, tingkat, d...\n",
              "75    [erdogan, lempar, kerikil, zionis, berani, bac...\n",
              "77    [kritik, halus, sepak, bola, bawa, ranah, poli...\n",
              "78    [penting, politik, penting, utama, di luar, ke...\n",
              "80    [israel, perang, penjuru, hamas, politik, dala...\n",
              "83    [politikus, gerindra, ajak, anak, muda, terjun...\n",
              "89    [biar, majlis, nasihat, darurat, lantik, kalan...\n",
              "90      [kang, enggak benar, kontrak, politik, kilapak]\n",
              "95                       [nama, politik, penting, mbak]\n",
              "Name: stemmed_tweet, dtype: object"
            ]
          },
          "metadata": {
            "tags": []
          },
          "execution_count": 85
        }
      ]
    },
    {
      "cell_type": "code",
      "metadata": {
        "id": "wp5YybPTjJ0m"
      },
      "source": [
        "df['label'] = 'politik'"
      ],
      "execution_count": null,
      "outputs": []
    },
    {
      "cell_type": "code",
      "metadata": {
        "id": "QZJkpljGhwhV"
      },
      "source": [
        "df.to_csv('Sample Preprocessing.csv')"
      ],
      "execution_count": null,
      "outputs": []
    },
    {
      "cell_type": "code",
      "metadata": {
        "id": "RSqS5YpsjVCv"
      },
      "source": [
        "df[['stemmed_tweet', 'label']].to_csv('Sample Bahan TF-IDF.csv')"
      ],
      "execution_count": null,
      "outputs": []
    }
  ]
}